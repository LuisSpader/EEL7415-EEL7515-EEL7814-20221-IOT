{
  "nbformat": 4,
  "nbformat_minor": 0,
  "metadata": {
    "colab": {
      "name": "LoRaSim",
      "provenance": [],
      "collapsed_sections": []
    },
    "kernelspec": {
      "name": "python3",
      "display_name": "Python 3"
    }
  },
  "cells": [
    {
      "cell_type": "markdown",
      "metadata": {
        "id": "XTqCXdwHMq-K"
      },
      "source": [
        "# LoRaSim\n",
        "Versão simplificada  e adaptada de um simulador de LoRaWAN desenvolvido por [Bor e Voigt](https://www.lancaster.ac.uk/scc/sites/lora/lorasim.html). "
      ]
    },
    {
      "cell_type": "markdown",
      "metadata": {
        "id": "EM3BQ-9hcEfq"
      },
      "source": [
        "# Setup Inicial"
      ]
    },
    {
      "cell_type": "code",
      "metadata": {
        "id": "UvSvEhPgMZYj"
      },
      "source": [
        "%%capture\n",
        "! pip install -r requirements.txt\n",
        "import loraDirMulBS as LoRaSim\n",
        "import plots\n"
      ],
      "execution_count": 1,
      "outputs": []
    },
    {
      "cell_type": "markdown",
      "metadata": {
        "id": "eDy8v8mrPdR5"
      },
      "source": [
        "# Simulações\n",
        "\n",
        "Outras possíveis configurações de transmissão para os experimentos são: \n",
        "\n",
        "    0: SF12, BW125, CR4/8, um canal de frequência\n",
        "    1: SF7, BW125, CR4/8, um canal de frequência\n",
        "    2: Tempo no ar dos pacotes otimizado de acordo com a distância ao GW"
      ]
    },
    {
      "cell_type": "markdown",
      "source": [
        "## Exemplo 1"
      ],
      "metadata": {
        "id": "yWqsM9vzU91V"
      }
    },
    {
      "cell_type": "markdown",
      "source": [
        "O primeiro experimento simula uma rede com 150 dispositivos dispostos em uma área circular de raio 5 km e 1 GW central. \n",
        "- Os dispositivos compartilham um canal de frequência e transmitem pacotes utilizando SF 12, com largura de banda 125 kHz (BW125), taxa de correção de erro 4/8 (CR48) e potência de transmissão Pt= 14 dBm. \n",
        "- Cada dispositivo transmite depois de um tempo aleatório tirado de uma distribuição exponencial com média 1000 s. A simulação dura 24 h de tempo simulado. \n",
        "- Como na primeira célula, clique no ícone de play(ou tecle shift+enter). \n",
        "- Observe o resultado clicando duas vezes no arquivo exp0.csv que foi criado com o resultado da simulação.\n"
      ],
      "metadata": {
        "id": "Wlm4qEuVU7fM"
      }
    },
    {
      "cell_type": "code",
      "metadata": {
        "id": "3OOdlZ_Lz96w"
      },
      "source": [
        "%%capture\n",
        "# Nesta célula a seleção dos parâmetros e a simulação acontecem\n",
        "# Os dispositivos compartilham um canal de frequência e transmitem pacotes utilizando:\n",
        "# =================== CONFIGURAÇÃO 0 =================== \n",
        "# SF 12 \n",
        "# com largura de banda 125 kHz (BW125)\n",
        "# taxa de correção de erro 4/8 (CR48)\n",
        "# potência de transmissão Pt= 14 dBm.\n",
        "\n",
        "\n",
        "NumeroUsuarios = 150\n",
        "TempoEntreTransmissoes = 1000 # (segundos)\n",
        "Configuração = 0\n",
        "TempoSimulacao = 24 # (horas)\n",
        "NumeroDeGateways = 1 # (1..4, 6, 8, 24)\n",
        "DistanciaMaximaAteGateway = 5000 # (m), maior que 1000 m\n",
        " \n",
        "LoRaSim.simulation([_, NumeroUsuarios, TempoEntreTransmissoes,\n",
        "              Configuração, TempoSimulacao, NumeroDeGateways,\n",
        "              True, DistanciaMaximaAteGateway])"
      ],
      "execution_count": 8,
      "outputs": []
    },
    {
      "cell_type": "markdown",
      "source": [
        "-------------------------------------\n",
        "- Altere a variável Configuração para 1. \n",
        "  - Agora, todos os dispositivos transmitirão com SF7, BW125 e CR48. "
      ],
      "metadata": {
        "id": "iCC-DO8VaJco"
      }
    },
    {
      "cell_type": "code",
      "source": [
        "%%capture\n",
        "# Nesta célula a seleção dos parâmetros e a simulação acontecem\n",
        "\n",
        "# Altere a variável Configuração para 1. \n",
        "# Agora, todos os dispositivos transmitirão com: \n",
        "# =================== CONFIGURAÇÃO 1 =================== \n",
        "# SF 7 \n",
        "# com largura de banda 125 kHz (BW125)\n",
        "# taxa de correção de erro 4/8 (CR48)\n",
        "# potência de transmissão Pt= 14 dBm.\n",
        "\n",
        "\n",
        "NumeroUsuarios = 150\n",
        "TempoEntreTransmissoes = 1000 # (segundos)\n",
        "Configuração = 1 \n",
        "TempoSimulacao = 24 # (horas)\n",
        "NumeroDeGateways = 1 # (1..4, 6, 8, 24)\n",
        "DistanciaMaximaAteGateway = 5000 # (m), maior que 1000 m\n",
        " \n",
        "LoRaSim.simulation([_, NumeroUsuarios, TempoEntreTransmissoes,\n",
        "              Configuração, TempoSimulacao, NumeroDeGateways,\n",
        "              True, DistanciaMaximaAteGateway])"
      ],
      "metadata": {
        "id": "KZ2c_a-mWZof"
      },
      "execution_count": 9,
      "outputs": []
    },
    {
      "cell_type": "markdown",
      "source": [
        "![Screenshot_1.png](data:image/png;base64,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)"
      ],
      "metadata": {
        "id": "LkOpNWJBcrOm"
      }
    },
    {
      "cell_type": "markdown",
      "source": [
        "- O resultado da simulação, no arquivo exp1.csv, é muito diferente do caso anterior? \n",
        "  A maioria dos parâmetros resultaram em valores próximos, exceto pelos seguintes:\n",
        "    - Nª de colisões: config_0 = 5328 | config_1 = 152\n",
        "    - Nº de perdas: config_0 = 0 | config_1 = 5068\n",
        "- Analise a origem dos erros de comunicação, são na sua maioria de colisão de pacotes? Compare com o resultado da Configuração 0.\n",
        "  - Nota-se claramente que as perdas não são devido ao número de colisões, pois na configuração 1 onde tivemos 5068 perdas, obtivemos apenas 152  colisões, enquanto na configuração 0, se teve 5328 colisões (34x a mais) porém NENHUMA PERDA."
      ],
      "metadata": {
        "id": "fo0l8BuqczXD"
      }
    },
    {
      "cell_type": "markdown",
      "source": [
        "## Exemplo 2"
      ],
      "metadata": {
        "id": "IKNRd6xqVC_e"
      }
    },
    {
      "cell_type": "markdown",
      "source": [
        "-------------------------------\n",
        "No caso da Configuração 2, a alocação dos SFs é feita de forma a minimizar o tempo no ar dos pacotes, mas tentando evitar que o pacote seja perdido por atenuação. \n",
        "- Então, a combinação de parâmetros de transmissão que ocupa o canal por menos tempo é selecionada.\n",
        "- Um novo arquivo, sf_pct.csv, indicará o quanto cada SF será utilizado.  \n",
        "- Ao rodar apróxima célula, uma figura mostrando a distribuição de SF de acordo com a distância ao GW será gerada. \n",
        "- Compare o resultado desta configuração (no arquivo exp2.csv) com os da Configuração = 0 e da Configuração = 1."
      ],
      "metadata": {
        "id": "gCJVNfVOdW9q"
      }
    },
    {
      "cell_type": "code",
      "metadata": {
        "id": "VJHzf0887gfT"
      },
      "source": [
        "%%capture\n",
        "# Nesta célula a seleção dos parâmetros e a simulação acontecem\n",
        "\n",
        "# Altere a variável Configuração para 1. \n",
        "# Agora, todos os dispositivos transmitirão com: \n",
        "# =================== CONFIGURAÇÃO 2 =================== \n",
        "# SF 7, 8, 9, 10, 11 e 12\n",
        "# com largura de banda 125 kHz (BW125)\n",
        "# taxa de correção de erro 4/8 (CR48)\n",
        "# potência de transmissão Pt= 14 dBm.\n",
        "\n",
        "\n",
        "NumeroUsuarios = 150\n",
        "TempoEntreTransmissoes = 1000 # (segundos)\n",
        "Configuração = 2 \n",
        "TempoSimulacao = 24 # (horas)\n",
        "NumeroDeGateways = 1 # (1..4, 6, 8, 24)\n",
        "DistanciaMaximaAteGateway = 5000 # (m), maior que 1000 m\n",
        " \n",
        "LoRaSim.simulation([_, NumeroUsuarios, TempoEntreTransmissoes,\n",
        "              Configuração, TempoSimulacao, NumeroDeGateways,\n",
        "              True, DistanciaMaximaAteGateway])"
      ],
      "execution_count": 11,
      "outputs": []
    },
    {
      "cell_type": "code",
      "metadata": {
        "id": "WhyrBJJZwnkE",
        "outputId": "a34d0c52-3cc2-443f-c8f6-74a13d911ba5",
        "colab": {
          "base_uri": "https://localhost:8080/",
          "height": 265
        }
      },
      "source": [
        "# Plota distribuição de SF e BW de acordo com a distância ao GW\n",
        "\n",
        "plots.plot_distances_SF('sf_distance.csv')"
      ],
      "execution_count": 12,
      "outputs": [
        {
          "output_type": "display_data",
          "data": {
            "text/plain": [
              "<Figure size 432x288 with 1 Axes>"
            ],
            "image/png": "[encoded data removed]"
          },
          "metadata": {
            "needs_background": "light"
          }
        }
      ]
    },
    {
      "cell_type": "markdown",
      "source": [
        "# Tarefa"
      ],
      "metadata": {
        "id": "BR3sahUzd2Be"
      }
    },
    {
      "cell_type": "markdown",
      "source": [
        "Varie para as diferentes configurações:\n",
        "- o número de dispositivos\n",
        "- o tempo entre transmissões\n",
        "- a distância ao GW.\n"
      ],
      "metadata": {
        "id": "ocGhn4ZQd3WY"
      }
    },
    {
      "cell_type": "markdown",
      "source": [
        "## Variando número de dispositivos"
      ],
      "metadata": {
        "id": "3U7bw0iejcaX"
      }
    },
    {
      "cell_type": "markdown",
      "source": [
        "### 300 dispositivos"
      ],
      "metadata": {
        "id": "BtpmppznrBKs"
      }
    },
    {
      "cell_type": "code",
      "source": [
        "%%capture\n",
        "# Nesta célula a seleção dos parâmetros e a simulação acontecem\n",
        "\n",
        "# Altere a variável Configuração para 1. \n",
        "# Agora, todos os dispositivos transmitirão com: \n",
        "# =================== CONFIGURAÇÃO 2 =================== \n",
        "# SF 7, 8, 9, 10, 11 e 12\n",
        "# com largura de banda 125 kHz (BW125)\n",
        "# taxa de correção de erro 4/8 (CR48)\n",
        "# potência de transmissão Pt= 14 dBm.\n",
        "\n",
        "\n",
        "NumeroUsuarios = 300\n",
        "TempoEntreTransmissoes = 1000 # (segundos)\n",
        "Configuração = 1 \n",
        "TempoSimulacao = 24 # (horas)\n",
        "NumeroDeGateways = 1 # (1..4, 6, 8, 24)\n",
        "DistanciaMaximaAteGateway = 5000 # (m), maior que 1000 m\n",
        " \n",
        "LoRaSim.simulation([_, NumeroUsuarios, TempoEntreTransmissoes,\n",
        "              Configuração, TempoSimulacao, NumeroDeGateways,\n",
        "              True, DistanciaMaximaAteGateway])"
      ],
      "metadata": {
        "id": "hwltLtYHeLF-"
      },
      "execution_count": 13,
      "outputs": []
    },
    {
      "cell_type": "markdown",
      "source": [
        "### 600 dispositivos"
      ],
      "metadata": {
        "id": "-QWQCKwrrFm4"
      }
    },
    {
      "cell_type": "code",
      "source": [
        "%%capture\n",
        "# Nesta célula a seleção dos parâmetros e a simulação acontecem\n",
        "\n",
        "# Altere a variável Configuração para 1. \n",
        "# Agora, todos os dispositivos transmitirão com: \n",
        "# =================== CONFIGURAÇÃO 2 =================== \n",
        "# SF 7, 8, 9, 10, 11 e 12\n",
        "# com largura de banda 125 kHz (BW125)\n",
        "# taxa de correção de erro 4/8 (CR48)\n",
        "# potência de transmissão Pt= 14 dBm.\n",
        "\n",
        "\n",
        "NumeroUsuarios = 600\n",
        "TempoEntreTransmissoes = 1000 # (segundos)\n",
        "Configuração = 1 \n",
        "TempoSimulacao = 24 # (horas)\n",
        "NumeroDeGateways = 1 # (1..4, 6, 8, 24)\n",
        "DistanciaMaximaAteGateway = 5000 # (m), maior que 1000 m\n",
        " \n",
        "LoRaSim.simulation([_, NumeroUsuarios, TempoEntreTransmissoes,\n",
        "              Configuração, TempoSimulacao, NumeroDeGateways,\n",
        "              True, DistanciaMaximaAteGateway])"
      ],
      "metadata": {
        "id": "HEKu2l2QrKKt"
      },
      "execution_count": 14,
      "outputs": []
    },
    {
      "cell_type": "markdown",
      "source": [
        "### 1200 dispositivos"
      ],
      "metadata": {
        "id": "s18Dj0T8rIMq"
      }
    },
    {
      "cell_type": "code",
      "source": [
        "%%capture\n",
        "# Nesta célula a seleção dos parâmetros e a simulação acontecem\n",
        "\n",
        "# Altere a variável Configuração para 1. \n",
        "# Agora, todos os dispositivos transmitirão com: \n",
        "# =================== CONFIGURAÇÃO 2 =================== \n",
        "# SF 7, 8, 9, 10, 11 e 12\n",
        "# com largura de banda 125 kHz (BW125)\n",
        "# taxa de correção de erro 4/8 (CR48)\n",
        "# potência de transmissão Pt= 14 dBm.\n",
        "\n",
        "\n",
        "NumeroUsuarios = 1200\n",
        "TempoEntreTransmissoes = 1000 # (segundos)\n",
        "Configuração = 1 \n",
        "TempoSimulacao = 24 # (horas)\n",
        "NumeroDeGateways = 1 # (1..4, 6, 8, 24)\n",
        "DistanciaMaximaAteGateway = 5000 # (m), maior que 1000 m\n",
        " \n",
        "LoRaSim.simulation([_, NumeroUsuarios, TempoEntreTransmissoes,\n",
        "              Configuração, TempoSimulacao, NumeroDeGateways,\n",
        "              True, DistanciaMaximaAteGateway])"
      ],
      "metadata": {
        "id": "LK2PySjveQ40"
      },
      "execution_count": 15,
      "outputs": []
    },
    {
      "cell_type": "markdown",
      "source": [
        "### 1200 dispositivos"
      ],
      "metadata": {
        "id": "UgvW1ULbC1Ez"
      }
    },
    {
      "cell_type": "code",
      "source": [
        "%%capture\n",
        "# Nesta célula a seleção dos parâmetros e a simulação acontecem\n",
        "\n",
        "# Altere a variável Configuração para 1. \n",
        "# Agora, todos os dispositivos transmitirão com: \n",
        "# =================== CONFIGURAÇÃO 2 =================== \n",
        "# SF 7, 8, 9, 10, 11 e 12\n",
        "# com largura de banda 125 kHz (BW125)\n",
        "# taxa de correção de erro 4/8 (CR48)\n",
        "# potência de transmissão Pt= 14 dBm.\n",
        "\n",
        "\n",
        "NumeroUsuarios = 2000\n",
        "TempoEntreTransmissoes = 1000 # (segundos)\n",
        "Configuração = 1 \n",
        "TempoSimulacao = 24 # (horas)\n",
        "NumeroDeGateways = 1 # (1..4, 6, 8, 24)\n",
        "DistanciaMaximaAteGateway = 5000 # (m), maior que 1000 m\n",
        " \n",
        "LoRaSim.simulation([_, NumeroUsuarios, TempoEntreTransmissoes,\n",
        "              Configuração, TempoSimulacao, NumeroDeGateways,\n",
        "              True, DistanciaMaximaAteGateway])"
      ],
      "metadata": {
        "id": "lHtTtccxC10k"
      },
      "execution_count": 16,
      "outputs": []
    },
    {
      "cell_type": "markdown",
      "source": [
        "### 2400 dispositivos"
      ],
      "metadata": {
        "id": "v0T_jN48LVnW"
      }
    },
    {
      "cell_type": "code",
      "source": [
        "%%capture\n",
        "# Nesta célula a seleção dos parâmetros e a simulação acontecem\n",
        "\n",
        "# Altere a variável Configuração para 1. \n",
        "# Agora, todos os dispositivos transmitirão com: \n",
        "# =================== CONFIGURAÇÃO 2 =================== \n",
        "# SF 7, 8, 9, 10, 11 e 12\n",
        "# com largura de banda 125 kHz (BW125)\n",
        "# taxa de correção de erro 4/8 (CR48)\n",
        "# potência de transmissão Pt= 14 dBm.\n",
        "\n",
        "\n",
        "NumeroUsuarios = 2400\n",
        "TempoEntreTransmissoes = 1000 # (segundos)\n",
        "Configuração = 1 \n",
        "TempoSimulacao = 24 # (horas)\n",
        "NumeroDeGateways = 1 # (1..4, 6, 8, 24)\n",
        "DistanciaMaximaAteGateway = 5000 # (m), maior que 1000 m\n",
        " \n",
        "LoRaSim.simulation([_, NumeroUsuarios, TempoEntreTransmissoes,\n",
        "              Configuração, TempoSimulacao, NumeroDeGateways,\n",
        "              True, DistanciaMaximaAteGateway])"
      ],
      "metadata": {
        "id": "4tSxae1nLSOA"
      },
      "execution_count": 17,
      "outputs": []
    },
    {
      "cell_type": "markdown",
      "source": [
        "## Variando o tempo entre transmissões"
      ],
      "metadata": {
        "id": "tW0iFkIavbJl"
      }
    },
    {
      "cell_type": "markdown",
      "source": [
        "### 1000 segundos"
      ],
      "metadata": {
        "id": "QtFF69K6LgXj"
      }
    },
    {
      "cell_type": "code",
      "source": [
        "%%capture\n",
        "# Nesta célula a seleção dos parâmetros e a simulação acontecem\n",
        "\n",
        "# Altere a variável Configuração para 1. \n",
        "# Agora, todos os dispositivos transmitirão com: \n",
        "# =================== CONFIGURAÇÃO 2 =================== \n",
        "# SF 7, 8, 9, 10, 11 e 12\n",
        "# com largura de banda 125 kHz (BW125)\n",
        "# taxa de correção de erro 4/8 (CR48)\n",
        "# potência de transmissão Pt= 14 dBm.\n",
        "\n",
        "\n",
        "NumeroUsuarios = 2000\n",
        "TempoEntreTransmissoes = 2000 # (segundos)\n",
        "Configuração = 1 \n",
        "TempoSimulacao = 24 # (horas)\n",
        "NumeroDeGateways = 1 # (1..4, 6, 8, 24)\n",
        "DistanciaMaximaAteGateway = 5000 # (m), maior que 1000 m\n",
        " \n",
        "LoRaSim.simulation([_, NumeroUsuarios, TempoEntreTransmissoes,\n",
        "              Configuração, TempoSimulacao, NumeroDeGateways,\n",
        "              True, DistanciaMaximaAteGateway])"
      ],
      "metadata": {
        "id": "_M5MlqZFLgHk"
      },
      "execution_count": null,
      "outputs": []
    },
    {
      "cell_type": "markdown",
      "source": [
        "### 2000 segundos"
      ],
      "metadata": {
        "id": "IVF9_z33vea3"
      }
    },
    {
      "cell_type": "code",
      "source": [
        "%%capture\n",
        "# Nesta célula a seleção dos parâmetros e a simulação acontecem\n",
        "\n",
        "# Altere a variável Configuração para 1. \n",
        "# Agora, todos os dispositivos transmitirão com: \n",
        "# =================== CONFIGURAÇÃO 2 =================== \n",
        "# SF 7, 8, 9, 10, 11 e 12\n",
        "# com largura de banda 125 kHz (BW125)\n",
        "# taxa de correção de erro 4/8 (CR48)\n",
        "# potência de transmissão Pt= 14 dBm.\n",
        "\n",
        "\n",
        "NumeroUsuarios = 2000\n",
        "TempoEntreTransmissoes = 2000 # (segundos)\n",
        "Configuração = 1 \n",
        "TempoSimulacao = 24 # (horas)\n",
        "NumeroDeGateways = 1 # (1..4, 6, 8, 24)\n",
        "DistanciaMaximaAteGateway = 5000 # (m), maior que 1000 m\n",
        " \n",
        "LoRaSim.simulation([_, NumeroUsuarios, TempoEntreTransmissoes,\n",
        "              Configuração, TempoSimulacao, NumeroDeGateways,\n",
        "              True, DistanciaMaximaAteGateway])"
      ],
      "metadata": {
        "id": "9aEfURqZvqrT"
      },
      "execution_count": 18,
      "outputs": []
    },
    {
      "cell_type": "markdown",
      "source": [
        "### 4000 segundos"
      ],
      "metadata": {
        "id": "83PlbnAIvkEH"
      }
    },
    {
      "cell_type": "code",
      "source": [
        "%%capture\n",
        "# Nesta célula a seleção dos parâmetros e a simulação acontecem\n",
        "\n",
        "# Altere a variável Configuração para 1. \n",
        "# Agora, todos os dispositivos transmitirão com: \n",
        "# =================== CONFIGURAÇÃO 2 =================== \n",
        "# SF 7, 8, 9, 10, 11 e 12\n",
        "# com largura de banda 125 kHz (BW125)\n",
        "# taxa de correção de erro 4/8 (CR48)\n",
        "# potência de transmissão Pt= 14 dBm.\n",
        "\n",
        "\n",
        "NumeroUsuarios = 2000\n",
        "TempoEntreTransmissoes = 4000 # (segundos)\n",
        "Configuração = 1 \n",
        "TempoSimulacao = 24 # (horas)\n",
        "NumeroDeGateways = 1 # (1..4, 6, 8, 24)\n",
        "DistanciaMaximaAteGateway = 5000 # (m), maior que 1000 m\n",
        " \n",
        "LoRaSim.simulation([_, NumeroUsuarios, TempoEntreTransmissoes,\n",
        "              Configuração, TempoSimulacao, NumeroDeGateways,\n",
        "              True, DistanciaMaximaAteGateway])"
      ],
      "metadata": {
        "id": "Raqhrtt4wU1p"
      },
      "execution_count": 19,
      "outputs": []
    },
    {
      "cell_type": "markdown",
      "source": [
        "### 8000 segundos"
      ],
      "metadata": {
        "id": "3GPp3aCgvmhP"
      }
    },
    {
      "cell_type": "code",
      "source": [
        "%%capture\n",
        "# Nesta célula a seleção dos parâmetros e a simulação acontecem\n",
        "\n",
        "# Altere a variável Configuração para 1. \n",
        "# Agora, todos os dispositivos transmitirão com: \n",
        "# =================== CONFIGURAÇÃO 2 =================== \n",
        "# SF 7, 8, 9, 10, 11 e 12\n",
        "# com largura de banda 125 kHz (BW125)\n",
        "# taxa de correção de erro 4/8 (CR48)\n",
        "# potência de transmissão Pt= 14 dBm.\n",
        "\n",
        "\n",
        "NumeroUsuarios = 2000\n",
        "TempoEntreTransmissoes = 8000 # (segundos)\n",
        "Configuração = 1 \n",
        "TempoSimulacao = 24 # (horas)\n",
        "NumeroDeGateways = 1 # (1..4, 6, 8, 24)\n",
        "DistanciaMaximaAteGateway = 5000 # (m), maior que 1000 m\n",
        " \n",
        "LoRaSim.simulation([_, NumeroUsuarios, TempoEntreTransmissoes,\n",
        "              Configuração, TempoSimulacao, NumeroDeGateways,\n",
        "              True, DistanciaMaximaAteGateway])"
      ],
      "metadata": {
        "id": "ehmt4zKRwWI1"
      },
      "execution_count": 20,
      "outputs": []
    },
    {
      "cell_type": "markdown",
      "source": [
        "## Variando a distância ao GW (gateway)"
      ],
      "metadata": {
        "id": "o-4DDANaxI1d"
      }
    },
    {
      "cell_type": "markdown",
      "source": [
        "### 10000"
      ],
      "metadata": {
        "id": "kax3uQlTxRFe"
      }
    },
    {
      "cell_type": "code",
      "source": [
        "%%capture\n",
        "# Nesta célula a seleção dos parâmetros e a simulação acontecem\n",
        "\n",
        "# Altere a variável Configuração para 1. \n",
        "# Agora, todos os dispositivos transmitirão com: \n",
        "# =================== CONFIGURAÇÃO 2 =================== \n",
        "# SF 7, 8, 9, 10, 11 e 12\n",
        "# com largura de banda 125 kHz (BW125)\n",
        "# taxa de correção de erro 4/8 (CR48)\n",
        "# potência de transmissão Pt= 14 dBm.\n",
        "\n",
        "\n",
        "NumeroUsuarios = 1200\n",
        "TempoEntreTransmissoes = 1000 # (segundos)\n",
        "Configuração = 1 \n",
        "TempoSimulacao = 24 # (horas)\n",
        "NumeroDeGateways = 1 # (1..4, 6, 8, 24)\n",
        "DistanciaMaximaAteGateway = 10000 # (m), maior que 1000 m\n",
        " \n",
        "LoRaSim.simulation([_, NumeroUsuarios, TempoEntreTransmissoes,\n",
        "              Configuração, TempoSimulacao, NumeroDeGateways,\n",
        "              True, DistanciaMaximaAteGateway])"
      ],
      "metadata": {
        "id": "fbc3xgpvxOWA"
      },
      "execution_count": 29,
      "outputs": []
    },
    {
      "cell_type": "markdown",
      "source": [
        "### 20000"
      ],
      "metadata": {
        "id": "dx7pjE0wxUhH"
      }
    },
    {
      "cell_type": "code",
      "source": [
        "%%capture\n",
        "# Nesta célula a seleção dos parâmetros e a simulação acontecem\n",
        "\n",
        "# Altere a variável Configuração para 1. \n",
        "# Agora, todos os dispositivos transmitirão com: \n",
        "# =================== CONFIGURAÇÃO 2 =================== \n",
        "# SF 7, 8, 9, 10, 11 e 12\n",
        "# com largura de banda 125 kHz (BW125)\n",
        "# taxa de correção de erro 4/8 (CR48)\n",
        "# potência de transmissão Pt= 14 dBm.\n",
        "\n",
        "\n",
        "NumeroUsuarios = 1200\n",
        "TempoEntreTransmissoes = 1000 # (segundos)\n",
        "Configuração = 1 \n",
        "TempoSimulacao = 24 # (horas)\n",
        "NumeroDeGateways = 1 # (1..4, 6, 8, 24)\n",
        "DistanciaMaximaAteGateway = 20000 # (m), maior que 1000 m\n",
        " \n",
        "LoRaSim.simulation([_, NumeroUsuarios, TempoEntreTransmissoes,\n",
        "              Configuração, TempoSimulacao, NumeroDeGateways,\n",
        "              True, DistanciaMaximaAteGateway])"
      ],
      "metadata": {
        "id": "m5niDbkRxZ1s"
      },
      "execution_count": 30,
      "outputs": []
    },
    {
      "cell_type": "markdown",
      "source": [
        "### 40000"
      ],
      "metadata": {
        "id": "G5NMLZpbxV93"
      }
    },
    {
      "cell_type": "code",
      "source": [
        "%%capture\n",
        "# Nesta célula a seleção dos parâmetros e a simulação acontecem\n",
        "\n",
        "# Altere a variável Configuração para 1. \n",
        "# Agora, todos os dispositivos transmitirão com: \n",
        "# =================== CONFIGURAÇÃO 2 =================== \n",
        "# SF 7, 8, 9, 10, 11 e 12\n",
        "# com largura de banda 125 kHz (BW125)\n",
        "# taxa de correção de erro 4/8 (CR48)\n",
        "# potência de transmissão Pt= 14 dBm.\n",
        "\n",
        "\n",
        "NumeroUsuarios = 1200\n",
        "TempoEntreTransmissoes = 1000 # (segundos)\n",
        "Configuração = 1 \n",
        "TempoSimulacao = 24 # (horas)\n",
        "NumeroDeGateways = 1 # (1..4, 6, 8, 24)\n",
        "DistanciaMaximaAteGateway = 40000 # (m), maior que 1000 m\n",
        " \n",
        "LoRaSim.simulation([_, NumeroUsuarios, TempoEntreTransmissoes,\n",
        "              Configuração, TempoSimulacao, NumeroDeGateways,\n",
        "              True, DistanciaMaximaAteGateway])"
      ],
      "metadata": {
        "id": "uTlI18FYxjYV"
      },
      "execution_count": 31,
      "outputs": []
    },
    {
      "cell_type": "markdown",
      "source": [
        "### 80000"
      ],
      "metadata": {
        "id": "_9ZAy7cDxXWL"
      }
    },
    {
      "cell_type": "code",
      "source": [
        "%%capture\n",
        "# Nesta célula a seleção dos parâmetros e a simulação acontecem\n",
        "\n",
        "# Altere a variável Configuração para 1. \n",
        "# Agora, todos os dispositivos transmitirão com: \n",
        "# =================== CONFIGURAÇÃO 2 =================== \n",
        "# SF 7, 8, 9, 10, 11 e 12\n",
        "# com largura de banda 125 kHz (BW125)\n",
        "# taxa de correção de erro 4/8 (CR48)\n",
        "# potência de transmissão Pt= 14 dBm.\n",
        "\n",
        "\n",
        "NumeroUsuarios = 1200\n",
        "TempoEntreTransmissoes = 1000 # (segundos)\n",
        "Configuração = 1 \n",
        "TempoSimulacao = 24 # (horas)\n",
        "NumeroDeGateways = 1 # (1..4, 6, 8, 24)\n",
        "DistanciaMaximaAteGateway = 80000 # (m), maior que 1000 m\n",
        " \n",
        "LoRaSim.simulation([_, NumeroUsuarios, TempoEntreTransmissoes,\n",
        "              Configuração, TempoSimulacao, NumeroDeGateways,\n",
        "              True, DistanciaMaximaAteGateway])"
      ],
      "metadata": {
        "id": "LmdhHnQtxjqJ"
      },
      "execution_count": 32,
      "outputs": []
    },
    {
      "cell_type": "markdown",
      "source": [
        "- O quanto a densidade de uma rede influencia em seu desempenho final? \n",
        "- Quando isto é mais relevante do que a distância ao GW?"
      ],
      "metadata": {
        "id": "aC9yNr_yeQZq"
      }
    },
    {
      "cell_type": "code",
      "source": [
        ""
      ],
      "metadata": {
        "id": "BFI_ypA7xtS9"
      },
      "execution_count": 32,
      "outputs": []
    }
  ]
}